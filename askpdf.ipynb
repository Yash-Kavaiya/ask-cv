{
 "cells": [
  {
   "cell_type": "code",
   "execution_count": 5,
   "metadata": {
    "metadata": {}
   },
   "outputs": [],
   "source": [
    "!pip install pypdf langchain_community langchain-text-splitters langchain sentence_transformers langchain-chroma -q"
   ]
  },
  {
   "cell_type": "code",
   "execution_count": 6,
   "metadata": {
    "metadata": {}
   },
   "outputs": [],
   "source": [
    "from langchain_community.document_loaders import PyPDFLoader\n",
    "from langchain_text_splitters import RecursiveCharacterTextSplitter\n",
    "\n",
    "loader = PyPDFLoader(\"/workspaces/ask-cv/IT Support .pdf\")\n",
    "pages = loader.load_and_split()"
   ]
  },
  {
   "cell_type": "code",
   "execution_count": 7,
   "metadata": {
    "metadata": {}
   },
   "outputs": [
    {
     "data": {
      "text/plain": [
       "[Document(page_content=\"Question:\\nWhy\\nis\\nmy\\nlaptop\\nrunning\\nslow?\\nShort\\nSolution:\\nThere\\nare\\nseveral\\nreasons\\nfor\\na\\nslow\\nlaptop.\\nCheck\\nif\\nmany\\nprograms\\nare\\nrunning\\nat\\nonce,\\nfree\\nup\\ndisk\\nspace\\nby\\ndeleting\\nunnecessary\\nfiles,\\nconsider\\nupgrading\\nRAM,\\nor\\nrun\\na\\nscan\\nfor\\nmalware.\\nQuestion:\\nHow\\ndo\\nI\\nconnect\\nan\\nexternal\\nhard\\ndrive\\nto\\nmy\\ncomputer?\\nShort\\nSolution:\\nMost\\nexternal\\nhard\\ndrives\\nconnect\\nvia\\nUSB.\\nLocate\\na\\nfree\\nUSB\\nport\\non\\nyour\\ncomputer,\\nplug\\nin\\nthe\\ndrive,\\nand\\nit\\nshould\\nbe\\nautomatically\\ndetected\\nby\\nyour\\noperating\\nsystem.\\nQuestion:\\nWhat\\nare\\nthe\\nsystem\\nrequirements\\nfor\\nrunning\\na\\nspecific\\nsoftware?\\nShort\\nSolution:\\nSystem\\nrequirements\\ncan\\nusually\\nbe\\nfound\\non\\nthe\\nsoftware\\ndeveloper's\\nwebsite\\nor\\nthe\\nsoftware\\npackaging\\nitself.\\nThey\\nspecify\\nthe\\nminimum\\nRAM,\\nstorage\\nspace,\\nprocessor\\ntype,\\nand\\noperating\\nsystem\\nneeded\\nto\\nrun\\nthe\\nsoftware\\nsmoothly.\\nSoftware-related\\nQuestions:\\nQuestion:\\nHow\\ndo\\nI\\ninstall\\na\\nnew\\nsoftware\\napplication?\\nShort\\nSolution:\\nDownloaded\\nsoftware\\noften\\ncomes\\nas\\nan\\ninstaller\\nfile\\n(e.g.,\\n.exe).\\nDouble-click\\nthe\\nfile\\nand\\nfollow\\nthe\\non-screen\\ninstructions.\\nFor\\nonline\\napplications,\\nvisit\\nthe\\nprovider's\\nwebsite\\nand\\nfollow\\ntheir\\nsignup/download\\nprocess.\\nQuestion:\\nCan\\nyou\\nguide\\nme\\nthrough\\nthe\\nprocess\\nof\\nuninstalling\\na\\nprogram?\\nShort\\nSolution:\\nThe\\nuninstall\\nprocess\\nvaries\\nslightly\\ndepending\\non\\nthe\\noperating\\nsystem.\\nGenerally,\\nyou\\ncan\\nuninstall\\nprograms\\nthrough\\nthe\\ncontrol\\npanel\\nor\\nsettings\\nmenu\\non\\nyour\\ncomputer.\\nNetwork\\nand\\nInternet-related\\nQuestions:\\nQuestion:\\nHow\\ndo\\nI\\nconnect\\nto\\na\\nWi-Fi\\nnetwork?\\nShort\\nSolution:\\nLocate\\nthe\\nWi-Fi\\nicon\\non\\nyour\\ndevice\\n(computer,\\nphone,\\netc.).\\nSearch\\nfor\\navailable\\nnetworks,\\nselect\\nyour\\ndesired\\nnetwork,\\nand\\nenter\\nthe\\npassword\\n(if\\nrequired).\\nQuestion:\\nWhy\\nis\\nmy\\ninternet\\nconnection\\nslow?\\nShort\\nSolution:\\nSlow\\ninternet\\ncan\\nbe\\ncaused\\nby\\nvarious\\nfactors\\nlike\\noverloaded\\nWi-Fi\\nnetworks,\\nlimited\\ninternet\\nplan\\nbandwidth,\\nor\\nissues\\nwith\\nyour\\ninternet\\nservice\\nprovider.\\nGeneral\\nIT\\nSupport\\nQuestions:\\nQuestion:\\nHow\\ndo\\nI\\nbackup\\nand\\nrestore\\nmy\\ndata?\", metadata={'source': '/workspaces/ask-cv/IT Support .pdf', 'page': 0}),\n",
       " Document(page_content=\"Short\\nSolution:\\nBacking\\nup\\ndata\\ninvolves\\ncopying\\nit\\nto\\nanother\\nstorage\\nlocation\\n(external\\nhard\\ndrive,\\ncloud\\nstorage).\\nMany\\nbackup\\noptions\\nexist\\ndepending\\non\\nyour\\nneeds.\\nRestoring\\ndata\\ninvolves\\nretrieving\\nit\\nfrom\\nyour\\nbackup\\nstorage.\\nQuestion:\\nCan\\nyou\\nrecommend\\na\\ngood\\nantivirus\\nsoftware?\\nShort\\nSolution:\\nSeveral\\nreputable\\nantivirus\\nprograms\\nare\\navailable.\\nPopular\\noptions\\ninclude\\nBitdefender,\\nNorton,\\nand\\nKaspersky.\\nResearch\\nand\\nchoose\\none\\nthat\\nsuits\\nyour\\nneeds\\nand\\nbudget.\\nQuestion:\\nWhy\\nis\\nmy\\nlaptop\\nrunning\\nslow?\\nShort\\nSolution:\\nThere\\nare\\nseveral\\nreasons\\nfor\\na\\nslow\\nlaptop.\\nCheck\\nif\\nmany\\nprograms\\nare\\nrunning\\nat\\nonce,\\nfree\\nup\\ndisk\\nspace\\nby\\ndeleting\\nunnecessary\\nfiles,\\nconsider\\nupgrading\\nRAM,\\nor\\nrun\\na\\nscan\\nfor\\nmalware.\\nQuestion:\\nHow\\ndo\\nI\\nconnect\\nan\\nexternal\\nhard\\ndrive\\nto\\nmy\\ncomputer?\\nShort\\nSolution:\\nMost\\nexternal\\nhard\\ndrives\\nconnect\\nvia\\nUSB.\\nLocate\\na\\nfree\\nUSB\\nport\\non\\nyour\\ncomputer,\\nplug\\nin\\nthe\\ndrive,\\nand\\nit\\nshould\\nbe\\nautomatically\\ndetected\\nby\\nyour\\noperating\\nsystem.\\nQuestion:\\nWhat\\nare\\nthe\\nsystem\\nrequirements\\nfor\\nrunning\\na\\nspecific\\nsoftware?\\nShort\\nSolution:\\nSystem\\nrequirements\\ncan\\nusually\\nbe\\nfound\\non\\nthe\\nsoftware\\ndeveloper's\\nwebsite\\nor\\nthe\\nsoftware\\npackaging\\nitself.\\nThey\\nspecify\\nthe\\nminimum\\nRAM,\\nstorage\\nspace,\\nprocessor\\ntype,\\nand\\noperating\\nsystem\\nneeded\\nto\\nrun\\nthe\\nsoftware\\nsmoothly.\\nSoftware-related\\nQuestions:\\nQuestion:\\nHow\\ndo\\nI\\ninstall\\na\\nnew\\nsoftware\\napplication?\\nShort\\nSolution:\\nDownloaded\\nsoftware\\noften\\ncomes\\nas\\nan\\ninstaller\\nfile\\n(e.g.,\\n.exe).\\nDouble-click\\nthe\\nfile\\nand\\nfollow\\nthe\\non-screen\\ninstructions.\\nFor\\nonline\\napplications,\\nvisit\\nthe\\nprovider's\\nwebsite\\nand\\nfollow\\ntheir\\nsignup/download\\nprocess.\\nQuestion:\\nCan\\nyou\\nguide\\nme\\nthrough\\nthe\\nprocess\\nof\\nuninstalling\\na\\nprogram?\\nShort\\nSolution:\\nThe\\nuninstall\\nprocess\\nvaries\\nslightly\\ndepending\\non\\nthe\\noperating\\nsystem.\\nGenerally,\\nyou\\ncan\\nuninstall\\nprograms\\nthrough\\nthe\\ncontrol\\npanel\\nor\\nsettings\\nmenu\\non\\nyour\\ncomputer.\\nNetwork\\nand\\nInternet-related\\nQuestions:\\nQuestion:\\nHow\\ndo\\nI\\nconnect\\nto\\na\\nWi-Fi\\nnetwork?\\nShort\\nSolution:\\nLocate\\nthe\\nWi-Fi\\nicon\\non\\nyour\\ndevice\\n(computer,\\nphone,\\netc.).\\nSearch\\nfor\\navailable\\nnetworks,\\nselect\\nyour\\ndesired\\nnetwork,\\nand\\nenter\\nthe\\npassword\\n(if\\nrequired).\", metadata={'source': '/workspaces/ask-cv/IT Support .pdf', 'page': 1}),\n",
       " Document(page_content='Question:\\nWhy\\nis\\nmy\\ninternet\\nconnection\\nslow?\\nShort\\nSolution:\\nSlow\\ninternet\\ncan\\nbe\\ncaused\\nby\\nvarious\\nfactors\\nlike\\noverloaded\\nWi-Fi\\nnetworks,\\nlimited\\ninternet\\nplan\\nbandwidth,\\nor\\nissues\\nwith\\nyour\\ninternet\\nservice\\nprovider.\\nGeneral\\nIT\\nSupport\\nQuestions:\\nQuestion:\\nHow\\ndo\\nI\\nbackup\\nand\\nrestore\\nmy\\ndata?\\nShort\\nSolution:\\nBacking\\nup\\ndata\\ninvolves\\ncopying\\nit\\nto\\nanother\\nstorage\\nlocation\\n(external\\nhard\\ndrive,\\ncloud\\nstorage).\\nMany\\nbackup\\noptions\\nexist\\ndepending\\non\\nyour\\nneeds.\\nRestoring\\ndata\\ninvolves\\nretrieving\\nit\\nfrom\\nyour\\nbackup\\nstorage.\\nQuestion:\\nCan\\nyou\\nrecommend\\na\\ngood\\nantivirus\\nsoftware?\\nShort\\nSolution:\\nSeveral\\nreputable\\nantivirus\\nprograms\\nare\\navailable.\\nPopular\\noptions\\ninclude\\nBitdefender,\\nNorton,\\nand\\nKaspersky.\\nResearch\\nand\\nchoose\\none\\nthat\\nsuits\\nyour\\nneeds\\nand\\nbudget.', metadata={'source': '/workspaces/ask-cv/IT Support .pdf', 'page': 2})]"
      ]
     },
     "execution_count": 7,
     "metadata": {},
     "output_type": "execute_result"
    }
   ],
   "source": [
    "pages"
   ]
  },
  {
   "cell_type": "code",
   "execution_count": 8,
   "metadata": {
    "metadata": {}
   },
   "outputs": [],
   "source": [
    "data = loader.load()\n",
    "text_splitter = RecursiveCharacterTextSplitter(chunk_size=1000, chunk_overlap=200)\n",
    "texts = text_splitter.split_documents(data)"
   ]
  },
  {
   "cell_type": "code",
   "execution_count": 9,
   "metadata": {
    "metadata": {}
   },
   "outputs": [],
   "source": [
    "from langchain_community.vectorstores import FAISS"
   ]
  },
  {
   "cell_type": "code",
   "execution_count": 10,
   "metadata": {
    "metadata": {}
   },
   "outputs": [
    {
     "name": "stderr",
     "output_type": "stream",
     "text": [
      "/home/codespace/.python/current/lib/python3.10/site-packages/tqdm/auto.py:21: TqdmWarning: IProgress not found. Please update jupyter and ipywidgets. See https://ipywidgets.readthedocs.io/en/stable/user_install.html\n",
      "  from .autonotebook import tqdm as notebook_tqdm\n",
      "/home/codespace/.python/current/lib/python3.10/site-packages/huggingface_hub/file_download.py:1132: FutureWarning: `resume_download` is deprecated and will be removed in version 1.0.0. Downloads always resume when possible. If you want to force a new download, use `force_download=True`.\n",
      "  warnings.warn(\n"
     ]
    }
   ],
   "source": [
    "from langchain_community.embeddings import HuggingFaceEmbeddings\n",
    "embeddings = HuggingFaceEmbeddings()"
   ]
  },
  {
   "cell_type": "code",
   "execution_count": 11,
   "metadata": {
    "metadata": {}
   },
   "outputs": [
    {
     "name": "stdout",
     "output_type": "stream",
     "text": [
      "Requirement already satisfied: faiss-cpu in /usr/local/python/3.10.13/lib/python3.10/site-packages (1.8.0)\n",
      "Requirement already satisfied: numpy in /home/codespace/.local/lib/python3.10/site-packages (from faiss-cpu) (1.26.4)\n"
     ]
    }
   ],
   "source": [
    "!pip install faiss-cpu"
   ]
  },
  {
   "cell_type": "code",
   "execution_count": 12,
   "metadata": {
    "metadata": {}
   },
   "outputs": [],
   "source": [
    "db = FAISS.from_documents(texts, embeddings)"
   ]
  },
  {
   "cell_type": "code",
   "execution_count": 13,
   "metadata": {
    "metadata": {}
   },
   "outputs": [
    {
     "name": "stdout",
     "output_type": "stream",
     "text": [
      "7\n"
     ]
    }
   ],
   "source": [
    "print(db.index.ntotal)"
   ]
  },
  {
   "cell_type": "code",
   "execution_count": 14,
   "metadata": {
    "metadata": {}
   },
   "outputs": [],
   "source": [
    "query = \"can solve linear advection/diffusion problems\"\n",
    "docs = db.similarity_search(query)"
   ]
  },
  {
   "cell_type": "code",
   "execution_count": 15,
   "metadata": {
    "metadata": {}
   },
   "outputs": [
    {
     "data": {
      "text/plain": [
       "[Document(page_content='Short\\nSolution:\\nBacking\\nup\\ndata\\ninvolves\\ncopying\\nit\\nto\\nanother\\nstorage\\nlocation\\n(external\\nhard\\ndrive,\\ncloud\\nstorage).\\nMany\\nbackup\\noptions\\nexist\\ndepending\\non\\nyour\\nneeds.\\nRestoring\\ndata\\ninvolves\\nretrieving\\nit\\nfrom\\nyour\\nbackup\\nstorage.\\nQuestion:\\nCan\\nyou\\nrecommend\\na\\ngood\\nantivirus\\nsoftware?\\nShort\\nSolution:\\nSeveral\\nreputable\\nantivirus\\nprograms\\nare\\navailable.\\nPopular\\noptions\\ninclude\\nBitdefender,\\nNorton,\\nand\\nKaspersky.\\nResearch\\nand\\nchoose\\none\\nthat\\nsuits\\nyour\\nneeds\\nand\\nbudget.\\nQuestion:\\nWhy\\nis\\nmy\\nlaptop\\nrunning\\nslow?\\nShort\\nSolution:\\nThere\\nare\\nseveral\\nreasons\\nfor\\na\\nslow\\nlaptop.\\nCheck\\nif\\nmany\\nprograms\\nare\\nrunning\\nat\\nonce,\\nfree\\nup\\ndisk\\nspace\\nby\\ndeleting\\nunnecessary\\nfiles,\\nconsider\\nupgrading\\nRAM,\\nor\\nrun\\na\\nscan\\nfor\\nmalware.\\nQuestion:\\nHow\\ndo\\nI\\nconnect\\nan\\nexternal\\nhard\\ndrive\\nto\\nmy\\ncomputer?\\nShort\\nSolution:\\nMost\\nexternal\\nhard\\ndrives\\nconnect\\nvia\\nUSB.\\nLocate\\na\\nfree\\nUSB\\nport\\non\\nyour\\ncomputer,\\nplug\\nin\\nthe\\ndrive,\\nand\\nit\\nshould\\nbe\\nautomatically\\ndetected\\nby\\nyour\\noperating\\nsystem.\\nQuestion:\\nWhat\\nare\\nthe', metadata={'source': '/workspaces/ask-cv/IT Support .pdf', 'page': 1}),\n",
       " Document(page_content='Question:\\nWhy\\nis\\nmy\\ninternet\\nconnection\\nslow?\\nShort\\nSolution:\\nSlow\\ninternet\\ncan\\nbe\\ncaused\\nby\\nvarious\\nfactors\\nlike\\noverloaded\\nWi-Fi\\nnetworks,\\nlimited\\ninternet\\nplan\\nbandwidth,\\nor\\nissues\\nwith\\nyour\\ninternet\\nservice\\nprovider.\\nGeneral\\nIT\\nSupport\\nQuestions:\\nQuestion:\\nHow\\ndo\\nI\\nbackup\\nand\\nrestore\\nmy\\ndata?\\nShort\\nSolution:\\nBacking\\nup\\ndata\\ninvolves\\ncopying\\nit\\nto\\nanother\\nstorage\\nlocation\\n(external\\nhard\\ndrive,\\ncloud\\nstorage).\\nMany\\nbackup\\noptions\\nexist\\ndepending\\non\\nyour\\nneeds.\\nRestoring\\ndata\\ninvolves\\nretrieving\\nit\\nfrom\\nyour\\nbackup\\nstorage.\\nQuestion:\\nCan\\nyou\\nrecommend\\na\\ngood\\nantivirus\\nsoftware?\\nShort\\nSolution:\\nSeveral\\nreputable\\nantivirus\\nprograms\\nare\\navailable.\\nPopular\\noptions\\ninclude\\nBitdefender,\\nNorton,\\nand\\nKaspersky.\\nResearch\\nand\\nchoose\\none\\nthat\\nsuits\\nyour\\nneeds\\nand\\nbudget.', metadata={'source': '/workspaces/ask-cv/IT Support .pdf', 'page': 2}),\n",
       " Document(page_content=\"software\\nsmoothly.\\nSoftware-related\\nQuestions:\\nQuestion:\\nHow\\ndo\\nI\\ninstall\\na\\nnew\\nsoftware\\napplication?\\nShort\\nSolution:\\nDownloaded\\nsoftware\\noften\\ncomes\\nas\\nan\\ninstaller\\nfile\\n(e.g.,\\n.exe).\\nDouble-click\\nthe\\nfile\\nand\\nfollow\\nthe\\non-screen\\ninstructions.\\nFor\\nonline\\napplications,\\nvisit\\nthe\\nprovider's\\nwebsite\\nand\\nfollow\\ntheir\\nsignup/download\\nprocess.\\nQuestion:\\nCan\\nyou\\nguide\\nme\\nthrough\\nthe\\nprocess\\nof\\nuninstalling\\na\\nprogram?\\nShort\\nSolution:\\nThe\\nuninstall\\nprocess\\nvaries\\nslightly\\ndepending\\non\\nthe\\noperating\\nsystem.\\nGenerally,\\nyou\\ncan\\nuninstall\\nprograms\\nthrough\\nthe\\ncontrol\\npanel\\nor\\nsettings\\nmenu\\non\\nyour\\ncomputer.\\nNetwork\\nand\\nInternet-related\\nQuestions:\\nQuestion:\\nHow\\ndo\\nI\\nconnect\\nto\\na\\nWi-Fi\\nnetwork?\\nShort\\nSolution:\\nLocate\\nthe\\nWi-Fi\\nicon\\non\\nyour\\ndevice\\n(computer,\\nphone,\\netc.).\\nSearch\\nfor\\navailable\\nnetworks,\\nselect\\nyour\\ndesired\\nnetwork,\\nand\\nenter\\nthe\\npassword\\n(if\\nrequired).\\nQuestion:\\nWhy\\nis\\nmy\\ninternet\\nconnection\\nslow?\\nShort\\nSolution:\\nSlow\\ninternet\\ncan\\nbe\\ncaused\\nby\\nvarious\\nfactors\\nlike\\noverloaded\\nWi-Fi\", metadata={'source': '/workspaces/ask-cv/IT Support .pdf', 'page': 0}),\n",
       " Document(page_content=\"Most\\nexternal\\nhard\\ndrives\\nconnect\\nvia\\nUSB.\\nLocate\\na\\nfree\\nUSB\\nport\\non\\nyour\\ncomputer,\\nplug\\nin\\nthe\\ndrive,\\nand\\nit\\nshould\\nbe\\nautomatically\\ndetected\\nby\\nyour\\noperating\\nsystem.\\nQuestion:\\nWhat\\nare\\nthe\\nsystem\\nrequirements\\nfor\\nrunning\\na\\nspecific\\nsoftware?\\nShort\\nSolution:\\nSystem\\nrequirements\\ncan\\nusually\\nbe\\nfound\\non\\nthe\\nsoftware\\ndeveloper's\\nwebsite\\nor\\nthe\\nsoftware\\npackaging\\nitself.\\nThey\\nspecify\\nthe\\nminimum\\nRAM,\\nstorage\\nspace,\\nprocessor\\ntype,\\nand\\noperating\\nsystem\\nneeded\\nto\\nrun\\nthe\\nsoftware\\nsmoothly.\\nSoftware-related\\nQuestions:\\nQuestion:\\nHow\\ndo\\nI\\ninstall\\na\\nnew\\nsoftware\\napplication?\\nShort\\nSolution:\\nDownloaded\\nsoftware\\noften\\ncomes\\nas\\nan\\ninstaller\\nfile\\n(e.g.,\\n.exe).\\nDouble-click\\nthe\\nfile\\nand\\nfollow\\nthe\\non-screen\\ninstructions.\\nFor\\nonline\\napplications,\\nvisit\\nthe\\nprovider's\\nwebsite\\nand\\nfollow\\ntheir\\nsignup/download\\nprocess.\\nQuestion:\\nCan\\nyou\\nguide\\nme\\nthrough\\nthe\\nprocess\\nof\\nuninstalling\\na\\nprogram?\\nShort\\nSolution:\\nThe\\nuninstall\\nprocess\\nvaries\\nslightly\\ndepending\\non\\nthe\\noperating\\nsystem.\\nGenerally,\\nyou\\ncan\", metadata={'source': '/workspaces/ask-cv/IT Support .pdf', 'page': 1})]"
      ]
     },
     "execution_count": 15,
     "metadata": {},
     "output_type": "execute_result"
    }
   ],
   "source": [
    "docs"
   ]
  },
  {
   "cell_type": "code",
   "execution_count": 16,
   "metadata": {
    "metadata": {}
   },
   "outputs": [],
   "source": [
    "retriever = db.as_retriever()\n",
    "docs = retriever.invoke(query)"
   ]
  },
  {
   "cell_type": "code",
   "execution_count": 17,
   "metadata": {
    "metadata": {}
   },
   "outputs": [
    {
     "data": {
      "text/plain": [
       "[(Document(page_content='Short\\nSolution:\\nBacking\\nup\\ndata\\ninvolves\\ncopying\\nit\\nto\\nanother\\nstorage\\nlocation\\n(external\\nhard\\ndrive,\\ncloud\\nstorage).\\nMany\\nbackup\\noptions\\nexist\\ndepending\\non\\nyour\\nneeds.\\nRestoring\\ndata\\ninvolves\\nretrieving\\nit\\nfrom\\nyour\\nbackup\\nstorage.\\nQuestion:\\nCan\\nyou\\nrecommend\\na\\ngood\\nantivirus\\nsoftware?\\nShort\\nSolution:\\nSeveral\\nreputable\\nantivirus\\nprograms\\nare\\navailable.\\nPopular\\noptions\\ninclude\\nBitdefender,\\nNorton,\\nand\\nKaspersky.\\nResearch\\nand\\nchoose\\none\\nthat\\nsuits\\nyour\\nneeds\\nand\\nbudget.\\nQuestion:\\nWhy\\nis\\nmy\\nlaptop\\nrunning\\nslow?\\nShort\\nSolution:\\nThere\\nare\\nseveral\\nreasons\\nfor\\na\\nslow\\nlaptop.\\nCheck\\nif\\nmany\\nprograms\\nare\\nrunning\\nat\\nonce,\\nfree\\nup\\ndisk\\nspace\\nby\\ndeleting\\nunnecessary\\nfiles,\\nconsider\\nupgrading\\nRAM,\\nor\\nrun\\na\\nscan\\nfor\\nmalware.\\nQuestion:\\nHow\\ndo\\nI\\nconnect\\nan\\nexternal\\nhard\\ndrive\\nto\\nmy\\ncomputer?\\nShort\\nSolution:\\nMost\\nexternal\\nhard\\ndrives\\nconnect\\nvia\\nUSB.\\nLocate\\na\\nfree\\nUSB\\nport\\non\\nyour\\ncomputer,\\nplug\\nin\\nthe\\ndrive,\\nand\\nit\\nshould\\nbe\\nautomatically\\ndetected\\nby\\nyour\\noperating\\nsystem.\\nQuestion:\\nWhat\\nare\\nthe', metadata={'source': '/workspaces/ask-cv/IT Support .pdf', 'page': 1}),\n",
       "  1.6650972),\n",
       " (Document(page_content='Question:\\nWhy\\nis\\nmy\\ninternet\\nconnection\\nslow?\\nShort\\nSolution:\\nSlow\\ninternet\\ncan\\nbe\\ncaused\\nby\\nvarious\\nfactors\\nlike\\noverloaded\\nWi-Fi\\nnetworks,\\nlimited\\ninternet\\nplan\\nbandwidth,\\nor\\nissues\\nwith\\nyour\\ninternet\\nservice\\nprovider.\\nGeneral\\nIT\\nSupport\\nQuestions:\\nQuestion:\\nHow\\ndo\\nI\\nbackup\\nand\\nrestore\\nmy\\ndata?\\nShort\\nSolution:\\nBacking\\nup\\ndata\\ninvolves\\ncopying\\nit\\nto\\nanother\\nstorage\\nlocation\\n(external\\nhard\\ndrive,\\ncloud\\nstorage).\\nMany\\nbackup\\noptions\\nexist\\ndepending\\non\\nyour\\nneeds.\\nRestoring\\ndata\\ninvolves\\nretrieving\\nit\\nfrom\\nyour\\nbackup\\nstorage.\\nQuestion:\\nCan\\nyou\\nrecommend\\na\\ngood\\nantivirus\\nsoftware?\\nShort\\nSolution:\\nSeveral\\nreputable\\nantivirus\\nprograms\\nare\\navailable.\\nPopular\\noptions\\ninclude\\nBitdefender,\\nNorton,\\nand\\nKaspersky.\\nResearch\\nand\\nchoose\\none\\nthat\\nsuits\\nyour\\nneeds\\nand\\nbudget.', metadata={'source': '/workspaces/ask-cv/IT Support .pdf', 'page': 2}),\n",
       "  1.692441),\n",
       " (Document(page_content=\"software\\nsmoothly.\\nSoftware-related\\nQuestions:\\nQuestion:\\nHow\\ndo\\nI\\ninstall\\na\\nnew\\nsoftware\\napplication?\\nShort\\nSolution:\\nDownloaded\\nsoftware\\noften\\ncomes\\nas\\nan\\ninstaller\\nfile\\n(e.g.,\\n.exe).\\nDouble-click\\nthe\\nfile\\nand\\nfollow\\nthe\\non-screen\\ninstructions.\\nFor\\nonline\\napplications,\\nvisit\\nthe\\nprovider's\\nwebsite\\nand\\nfollow\\ntheir\\nsignup/download\\nprocess.\\nQuestion:\\nCan\\nyou\\nguide\\nme\\nthrough\\nthe\\nprocess\\nof\\nuninstalling\\na\\nprogram?\\nShort\\nSolution:\\nThe\\nuninstall\\nprocess\\nvaries\\nslightly\\ndepending\\non\\nthe\\noperating\\nsystem.\\nGenerally,\\nyou\\ncan\\nuninstall\\nprograms\\nthrough\\nthe\\ncontrol\\npanel\\nor\\nsettings\\nmenu\\non\\nyour\\ncomputer.\\nNetwork\\nand\\nInternet-related\\nQuestions:\\nQuestion:\\nHow\\ndo\\nI\\nconnect\\nto\\na\\nWi-Fi\\nnetwork?\\nShort\\nSolution:\\nLocate\\nthe\\nWi-Fi\\nicon\\non\\nyour\\ndevice\\n(computer,\\nphone,\\netc.).\\nSearch\\nfor\\navailable\\nnetworks,\\nselect\\nyour\\ndesired\\nnetwork,\\nand\\nenter\\nthe\\npassword\\n(if\\nrequired).\\nQuestion:\\nWhy\\nis\\nmy\\ninternet\\nconnection\\nslow?\\nShort\\nSolution:\\nSlow\\ninternet\\ncan\\nbe\\ncaused\\nby\\nvarious\\nfactors\\nlike\\noverloaded\\nWi-Fi\", metadata={'source': '/workspaces/ask-cv/IT Support .pdf', 'page': 0}),\n",
       "  1.6968939),\n",
       " (Document(page_content=\"Most\\nexternal\\nhard\\ndrives\\nconnect\\nvia\\nUSB.\\nLocate\\na\\nfree\\nUSB\\nport\\non\\nyour\\ncomputer,\\nplug\\nin\\nthe\\ndrive,\\nand\\nit\\nshould\\nbe\\nautomatically\\ndetected\\nby\\nyour\\noperating\\nsystem.\\nQuestion:\\nWhat\\nare\\nthe\\nsystem\\nrequirements\\nfor\\nrunning\\na\\nspecific\\nsoftware?\\nShort\\nSolution:\\nSystem\\nrequirements\\ncan\\nusually\\nbe\\nfound\\non\\nthe\\nsoftware\\ndeveloper's\\nwebsite\\nor\\nthe\\nsoftware\\npackaging\\nitself.\\nThey\\nspecify\\nthe\\nminimum\\nRAM,\\nstorage\\nspace,\\nprocessor\\ntype,\\nand\\noperating\\nsystem\\nneeded\\nto\\nrun\\nthe\\nsoftware\\nsmoothly.\\nSoftware-related\\nQuestions:\\nQuestion:\\nHow\\ndo\\nI\\ninstall\\na\\nnew\\nsoftware\\napplication?\\nShort\\nSolution:\\nDownloaded\\nsoftware\\noften\\ncomes\\nas\\nan\\ninstaller\\nfile\\n(e.g.,\\n.exe).\\nDouble-click\\nthe\\nfile\\nand\\nfollow\\nthe\\non-screen\\ninstructions.\\nFor\\nonline\\napplications,\\nvisit\\nthe\\nprovider's\\nwebsite\\nand\\nfollow\\ntheir\\nsignup/download\\nprocess.\\nQuestion:\\nCan\\nyou\\nguide\\nme\\nthrough\\nthe\\nprocess\\nof\\nuninstalling\\na\\nprogram?\\nShort\\nSolution:\\nThe\\nuninstall\\nprocess\\nvaries\\nslightly\\ndepending\\non\\nthe\\noperating\\nsystem.\\nGenerally,\\nyou\\ncan\", metadata={'source': '/workspaces/ask-cv/IT Support .pdf', 'page': 1}),\n",
       "  1.7312139)]"
      ]
     },
     "execution_count": 17,
     "metadata": {},
     "output_type": "execute_result"
    }
   ],
   "source": [
    "docs_and_scores = db.similarity_search_with_score(query)\n",
    "docs_and_scores "
   ]
  },
  {
   "cell_type": "code",
   "execution_count": 18,
   "metadata": {
    "metadata": {}
   },
   "outputs": [],
   "source": [
    "db.save_local(\"faiss_index\")\n",
    "\n",
    "new_db = FAISS.load_local(\"faiss_index\", embeddings, allow_dangerous_deserialization=True)"
   ]
  },
  {
   "cell_type": "code",
   "execution_count": 19,
   "metadata": {
    "metadata": {}
   },
   "outputs": [],
   "source": [
    "docs = retriever.invoke(\"what is cavity\")"
   ]
  },
  {
   "cell_type": "code",
   "execution_count": 20,
   "metadata": {
    "metadata": {}
   },
   "outputs": [
    {
     "data": {
      "text/plain": [
       "[Document(page_content='process.\\nQuestion:\\nCan\\nyou\\nguide\\nme\\nthrough\\nthe\\nprocess\\nof\\nuninstalling\\na\\nprogram?\\nShort\\nSolution:\\nThe\\nuninstall\\nprocess\\nvaries\\nslightly\\ndepending\\non\\nthe\\noperating\\nsystem.\\nGenerally,\\nyou\\ncan\\nuninstall\\nprograms\\nthrough\\nthe\\ncontrol\\npanel\\nor\\nsettings\\nmenu\\non\\nyour\\ncomputer.\\nNetwork\\nand\\nInternet-related\\nQuestions:\\nQuestion:\\nHow\\ndo\\nI\\nconnect\\nto\\na\\nWi-Fi\\nnetwork?\\nShort\\nSolution:\\nLocate\\nthe\\nWi-Fi\\nicon\\non\\nyour\\ndevice\\n(computer,\\nphone,\\netc.).\\nSearch\\nfor\\navailable\\nnetworks,\\nselect\\nyour\\ndesired\\nnetwork,\\nand\\nenter\\nthe\\npassword\\n(if\\nrequired).', metadata={'source': '/workspaces/ask-cv/IT Support .pdf', 'page': 1}),\n",
       " Document(page_content=\"software\\nsmoothly.\\nSoftware-related\\nQuestions:\\nQuestion:\\nHow\\ndo\\nI\\ninstall\\na\\nnew\\nsoftware\\napplication?\\nShort\\nSolution:\\nDownloaded\\nsoftware\\noften\\ncomes\\nas\\nan\\ninstaller\\nfile\\n(e.g.,\\n.exe).\\nDouble-click\\nthe\\nfile\\nand\\nfollow\\nthe\\non-screen\\ninstructions.\\nFor\\nonline\\napplications,\\nvisit\\nthe\\nprovider's\\nwebsite\\nand\\nfollow\\ntheir\\nsignup/download\\nprocess.\\nQuestion:\\nCan\\nyou\\nguide\\nme\\nthrough\\nthe\\nprocess\\nof\\nuninstalling\\na\\nprogram?\\nShort\\nSolution:\\nThe\\nuninstall\\nprocess\\nvaries\\nslightly\\ndepending\\non\\nthe\\noperating\\nsystem.\\nGenerally,\\nyou\\ncan\\nuninstall\\nprograms\\nthrough\\nthe\\ncontrol\\npanel\\nor\\nsettings\\nmenu\\non\\nyour\\ncomputer.\\nNetwork\\nand\\nInternet-related\\nQuestions:\\nQuestion:\\nHow\\ndo\\nI\\nconnect\\nto\\na\\nWi-Fi\\nnetwork?\\nShort\\nSolution:\\nLocate\\nthe\\nWi-Fi\\nicon\\non\\nyour\\ndevice\\n(computer,\\nphone,\\netc.).\\nSearch\\nfor\\navailable\\nnetworks,\\nselect\\nyour\\ndesired\\nnetwork,\\nand\\nenter\\nthe\\npassword\\n(if\\nrequired).\\nQuestion:\\nWhy\\nis\\nmy\\ninternet\\nconnection\\nslow?\\nShort\\nSolution:\\nSlow\\ninternet\\ncan\\nbe\\ncaused\\nby\\nvarious\\nfactors\\nlike\\noverloaded\\nWi-Fi\", metadata={'source': '/workspaces/ask-cv/IT Support .pdf', 'page': 0}),\n",
       " Document(page_content=\"Most\\nexternal\\nhard\\ndrives\\nconnect\\nvia\\nUSB.\\nLocate\\na\\nfree\\nUSB\\nport\\non\\nyour\\ncomputer,\\nplug\\nin\\nthe\\ndrive,\\nand\\nit\\nshould\\nbe\\nautomatically\\ndetected\\nby\\nyour\\noperating\\nsystem.\\nQuestion:\\nWhat\\nare\\nthe\\nsystem\\nrequirements\\nfor\\nrunning\\na\\nspecific\\nsoftware?\\nShort\\nSolution:\\nSystem\\nrequirements\\ncan\\nusually\\nbe\\nfound\\non\\nthe\\nsoftware\\ndeveloper's\\nwebsite\\nor\\nthe\\nsoftware\\npackaging\\nitself.\\nThey\\nspecify\\nthe\\nminimum\\nRAM,\\nstorage\\nspace,\\nprocessor\\ntype,\\nand\\noperating\\nsystem\\nneeded\\nto\\nrun\\nthe\\nsoftware\\nsmoothly.\\nSoftware-related\\nQuestions:\\nQuestion:\\nHow\\ndo\\nI\\ninstall\\na\\nnew\\nsoftware\\napplication?\\nShort\\nSolution:\\nDownloaded\\nsoftware\\noften\\ncomes\\nas\\nan\\ninstaller\\nfile\\n(e.g.,\\n.exe).\\nDouble-click\\nthe\\nfile\\nand\\nfollow\\nthe\\non-screen\\ninstructions.\\nFor\\nonline\\napplications,\\nvisit\\nthe\\nprovider's\\nwebsite\\nand\\nfollow\\ntheir\\nsignup/download\\nprocess.\\nQuestion:\\nCan\\nyou\\nguide\\nme\\nthrough\\nthe\\nprocess\\nof\\nuninstalling\\na\\nprogram?\\nShort\\nSolution:\\nThe\\nuninstall\\nprocess\\nvaries\\nslightly\\ndepending\\non\\nthe\\noperating\\nsystem.\\nGenerally,\\nyou\\ncan\", metadata={'source': '/workspaces/ask-cv/IT Support .pdf', 'page': 1}),\n",
       " Document(page_content='Short\\nSolution:\\nBacking\\nup\\ndata\\ninvolves\\ncopying\\nit\\nto\\nanother\\nstorage\\nlocation\\n(external\\nhard\\ndrive,\\ncloud\\nstorage).\\nMany\\nbackup\\noptions\\nexist\\ndepending\\non\\nyour\\nneeds.\\nRestoring\\ndata\\ninvolves\\nretrieving\\nit\\nfrom\\nyour\\nbackup\\nstorage.\\nQuestion:\\nCan\\nyou\\nrecommend\\na\\ngood\\nantivirus\\nsoftware?\\nShort\\nSolution:\\nSeveral\\nreputable\\nantivirus\\nprograms\\nare\\navailable.\\nPopular\\noptions\\ninclude\\nBitdefender,\\nNorton,\\nand\\nKaspersky.\\nResearch\\nand\\nchoose\\none\\nthat\\nsuits\\nyour\\nneeds\\nand\\nbudget.\\nQuestion:\\nWhy\\nis\\nmy\\nlaptop\\nrunning\\nslow?\\nShort\\nSolution:\\nThere\\nare\\nseveral\\nreasons\\nfor\\na\\nslow\\nlaptop.\\nCheck\\nif\\nmany\\nprograms\\nare\\nrunning\\nat\\nonce,\\nfree\\nup\\ndisk\\nspace\\nby\\ndeleting\\nunnecessary\\nfiles,\\nconsider\\nupgrading\\nRAM,\\nor\\nrun\\na\\nscan\\nfor\\nmalware.\\nQuestion:\\nHow\\ndo\\nI\\nconnect\\nan\\nexternal\\nhard\\ndrive\\nto\\nmy\\ncomputer?\\nShort\\nSolution:\\nMost\\nexternal\\nhard\\ndrives\\nconnect\\nvia\\nUSB.\\nLocate\\na\\nfree\\nUSB\\nport\\non\\nyour\\ncomputer,\\nplug\\nin\\nthe\\ndrive,\\nand\\nit\\nshould\\nbe\\nautomatically\\ndetected\\nby\\nyour\\noperating\\nsystem.\\nQuestion:\\nWhat\\nare\\nthe', metadata={'source': '/workspaces/ask-cv/IT Support .pdf', 'page': 1})]"
      ]
     },
     "execution_count": 20,
     "metadata": {},
     "output_type": "execute_result"
    }
   ],
   "source": [
    "docs "
   ]
  }
 ],
 "metadata": {
  "kernelspec": {
   "display_name": "Python 3",
   "language": "python",
   "name": "python3"
  },
  "language_info": {
   "codemirror_mode": {
    "name": "ipython",
    "version": 3
   },
   "file_extension": ".py",
   "mimetype": "text/x-python",
   "name": "python",
   "nbconvert_exporter": "python",
   "pygments_lexer": "ipython3",
   "version": "3.10.13"
  }
 },
 "nbformat": 4,
 "nbformat_minor": 2
}
